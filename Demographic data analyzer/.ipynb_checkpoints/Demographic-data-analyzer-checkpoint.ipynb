{
 "cells": [
  {
   "cell_type": "code",
   "execution_count": 1,
   "id": "f203fbc7",
   "metadata": {},
   "outputs": [],
   "source": [
    "import pandas as pd"
   ]
  },
  {
   "cell_type": "code",
   "execution_count": 2,
   "id": "a7e108b9",
   "metadata": {},
   "outputs": [
    {
     "data": {
      "text/html": [
       "<div>\n",
       "<style scoped>\n",
       "    .dataframe tbody tr th:only-of-type {\n",
       "        vertical-align: middle;\n",
       "    }\n",
       "\n",
       "    .dataframe tbody tr th {\n",
       "        vertical-align: top;\n",
       "    }\n",
       "\n",
       "    .dataframe thead th {\n",
       "        text-align: right;\n",
       "    }\n",
       "</style>\n",
       "<table border=\"1\" class=\"dataframe\">\n",
       "  <thead>\n",
       "    <tr style=\"text-align: right;\">\n",
       "      <th></th>\n",
       "      <th>age</th>\n",
       "      <th>workclass</th>\n",
       "      <th>fnlwgt</th>\n",
       "      <th>education</th>\n",
       "      <th>education-num</th>\n",
       "      <th>marital-status</th>\n",
       "      <th>occupation</th>\n",
       "      <th>relationship</th>\n",
       "      <th>race</th>\n",
       "      <th>sex</th>\n",
       "      <th>capital-gain</th>\n",
       "      <th>capital-loss</th>\n",
       "      <th>hours-per-week</th>\n",
       "      <th>native-country</th>\n",
       "      <th>salary</th>\n",
       "    </tr>\n",
       "  </thead>\n",
       "  <tbody>\n",
       "    <tr>\n",
       "      <th>0</th>\n",
       "      <td>39</td>\n",
       "      <td>State-gov</td>\n",
       "      <td>77516</td>\n",
       "      <td>Bachelors</td>\n",
       "      <td>13</td>\n",
       "      <td>Never-married</td>\n",
       "      <td>Adm-clerical</td>\n",
       "      <td>Not-in-family</td>\n",
       "      <td>White</td>\n",
       "      <td>Male</td>\n",
       "      <td>2174</td>\n",
       "      <td>0</td>\n",
       "      <td>40</td>\n",
       "      <td>United-States</td>\n",
       "      <td>&lt;=50K</td>\n",
       "    </tr>\n",
       "    <tr>\n",
       "      <th>1</th>\n",
       "      <td>50</td>\n",
       "      <td>Self-emp-not-inc</td>\n",
       "      <td>83311</td>\n",
       "      <td>Bachelors</td>\n",
       "      <td>13</td>\n",
       "      <td>Married-civ-spouse</td>\n",
       "      <td>Exec-managerial</td>\n",
       "      <td>Husband</td>\n",
       "      <td>White</td>\n",
       "      <td>Male</td>\n",
       "      <td>0</td>\n",
       "      <td>0</td>\n",
       "      <td>13</td>\n",
       "      <td>United-States</td>\n",
       "      <td>&lt;=50K</td>\n",
       "    </tr>\n",
       "    <tr>\n",
       "      <th>2</th>\n",
       "      <td>38</td>\n",
       "      <td>Private</td>\n",
       "      <td>215646</td>\n",
       "      <td>HS-grad</td>\n",
       "      <td>9</td>\n",
       "      <td>Divorced</td>\n",
       "      <td>Handlers-cleaners</td>\n",
       "      <td>Not-in-family</td>\n",
       "      <td>White</td>\n",
       "      <td>Male</td>\n",
       "      <td>0</td>\n",
       "      <td>0</td>\n",
       "      <td>40</td>\n",
       "      <td>United-States</td>\n",
       "      <td>&lt;=50K</td>\n",
       "    </tr>\n",
       "    <tr>\n",
       "      <th>3</th>\n",
       "      <td>53</td>\n",
       "      <td>Private</td>\n",
       "      <td>234721</td>\n",
       "      <td>11th</td>\n",
       "      <td>7</td>\n",
       "      <td>Married-civ-spouse</td>\n",
       "      <td>Handlers-cleaners</td>\n",
       "      <td>Husband</td>\n",
       "      <td>Black</td>\n",
       "      <td>Male</td>\n",
       "      <td>0</td>\n",
       "      <td>0</td>\n",
       "      <td>40</td>\n",
       "      <td>United-States</td>\n",
       "      <td>&lt;=50K</td>\n",
       "    </tr>\n",
       "    <tr>\n",
       "      <th>4</th>\n",
       "      <td>28</td>\n",
       "      <td>Private</td>\n",
       "      <td>338409</td>\n",
       "      <td>Bachelors</td>\n",
       "      <td>13</td>\n",
       "      <td>Married-civ-spouse</td>\n",
       "      <td>Prof-specialty</td>\n",
       "      <td>Wife</td>\n",
       "      <td>Black</td>\n",
       "      <td>Female</td>\n",
       "      <td>0</td>\n",
       "      <td>0</td>\n",
       "      <td>40</td>\n",
       "      <td>Cuba</td>\n",
       "      <td>&lt;=50K</td>\n",
       "    </tr>\n",
       "  </tbody>\n",
       "</table>\n",
       "</div>"
      ],
      "text/plain": [
       "   age         workclass  fnlwgt  education  education-num  \\\n",
       "0   39         State-gov   77516  Bachelors             13   \n",
       "1   50  Self-emp-not-inc   83311  Bachelors             13   \n",
       "2   38           Private  215646    HS-grad              9   \n",
       "3   53           Private  234721       11th              7   \n",
       "4   28           Private  338409  Bachelors             13   \n",
       "\n",
       "       marital-status         occupation   relationship   race     sex  \\\n",
       "0       Never-married       Adm-clerical  Not-in-family  White    Male   \n",
       "1  Married-civ-spouse    Exec-managerial        Husband  White    Male   \n",
       "2            Divorced  Handlers-cleaners  Not-in-family  White    Male   \n",
       "3  Married-civ-spouse  Handlers-cleaners        Husband  Black    Male   \n",
       "4  Married-civ-spouse     Prof-specialty           Wife  Black  Female   \n",
       "\n",
       "   capital-gain  capital-loss  hours-per-week native-country salary  \n",
       "0          2174             0              40  United-States  <=50K  \n",
       "1             0             0              13  United-States  <=50K  \n",
       "2             0             0              40  United-States  <=50K  \n",
       "3             0             0              40  United-States  <=50K  \n",
       "4             0             0              40           Cuba  <=50K  "
      ]
     },
     "execution_count": 2,
     "metadata": {},
     "output_type": "execute_result"
    }
   ],
   "source": [
    "# Read data from file\n",
    "df = pd.read_csv(\"adult.data.csv\")\n",
    "df.head()"
   ]
  },
  {
   "cell_type": "markdown",
   "id": "6b4f2cb9",
   "metadata": {},
   "source": [
    "# How many of each race are represented in this dataset?\n"
   ]
  },
  {
   "cell_type": "code",
   "execution_count": 14,
   "id": "55ddcb66",
   "metadata": {},
   "outputs": [
    {
     "name": "stdout",
     "output_type": "stream",
     "text": [
      "Number of each race:\n",
      " White                 27816\n",
      "Black                  3124\n",
      "Asian-Pac-Islander     1039\n",
      "Amer-Indian-Eskimo      311\n",
      "Other                   271\n",
      "Name: race, dtype: int64\n"
     ]
    }
   ],
   "source": [
    "race_count = df[\"race\"].value_counts()\n",
    "print(\"Number of each race:\\n\", race_count)"
   ]
  },
  {
   "cell_type": "markdown",
   "id": "b5b44899",
   "metadata": {},
   "source": [
    "# What is the average age of men?"
   ]
  },
  {
   "cell_type": "code",
   "execution_count": 15,
   "id": "bdec2124",
   "metadata": {},
   "outputs": [
    {
     "name": "stdout",
     "output_type": "stream",
     "text": [
      "Average age of men: 39.4\n"
     ]
    }
   ],
   "source": [
    "average_age_men = round(df[df[\"sex\"] == \"Male\"][\"age\"].mean(),1)\n",
    "\n",
    "print(\"Average age of men:\", average_age_men)"
   ]
  },
  {
   "cell_type": "markdown",
   "id": "d8b56362",
   "metadata": {},
   "source": [
    "# What is the percentage of people who have a Bachelor's degree?"
   ]
  },
  {
   "cell_type": "code",
   "execution_count": 16,
   "id": "c3ff91be",
   "metadata": {},
   "outputs": [
    {
     "name": "stdout",
     "output_type": "stream",
     "text": [
      "Percentage with Bachelors degrees: 16.4%\n"
     ]
    }
   ],
   "source": [
    "percentage_bachelors = round((df[df[\"education\"] == \"Bachelors\"].shape[0] / df.shape[0]) *100,1)\n",
    "\n",
    "print(f\"Percentage with Bachelors degrees: {percentage_bachelors}%\")"
   ]
  },
  {
   "cell_type": "markdown",
   "id": "657e7d36",
   "metadata": {},
   "source": [
    "# What percentage of people with advanced education (\"Bachelors\", \"Masters\", or \"Doctorate\") make more than 50K?\n",
    "# What percentage of people without advanced education make more than 50K?"
   ]
  },
  {
   "cell_type": "code",
   "execution_count": 17,
   "id": "8870ff2b",
   "metadata": {},
   "outputs": [
    {
     "name": "stdout",
     "output_type": "stream",
     "text": [
      "Percentage with higher education that earn >50K: 46.5%\n",
      "Percentage without higher education that earn >50K: 17.4%\n"
     ]
    }
   ],
   "source": [
    "# with and without `Bachelors`, `Masters`, or `Doctorate`\n",
    "higher_education = df[(df[\"education\"].isin([\"Bachelors\",\"Masters\",\"Doctorate\"])) & (df[\"salary\"] == \">50K\")].shape[0]\n",
    "lower_education = df[(~df[\"education\"].isin([\"Bachelors\",\"Masters\",\"Doctorate\"])) & (df[\"salary\"] == \">50K\")].shape[0]\n",
    "\n",
    "# percentage with salary >50K\n",
    "higher_education_rich =  round((higher_education / df[df[\"education\"].isin([\"Bachelors\",\"Masters\",\"Doctorate\"])].shape[0]) * 100,1)\n",
    "lower_education_rich = round((lower_education / df[~df[\"education\"].isin([\"Bachelors\",\"Masters\",\"Doctorate\"])].shape[0]) * 100,1)\n",
    "\n",
    "print(f\"Percentage with higher education that earn >50K: {higher_education_rich}%\")\n",
    "print(f\"Percentage without higher education that earn >50K: {lower_education_rich}%\")"
   ]
  },
  {
   "cell_type": "markdown",
   "id": "4ec16c66",
   "metadata": {},
   "source": [
    "# What is the minimum number of hours a person works per week (hours-per-week feature)?"
   ]
  },
  {
   "cell_type": "code",
   "execution_count": 18,
   "id": "8a7bf7f3",
   "metadata": {},
   "outputs": [
    {
     "name": "stdout",
     "output_type": "stream",
     "text": [
      "Min work time: 1 hours/week\n"
     ]
    }
   ],
   "source": [
    "min_work_hours = df[\"hours-per-week\"].min()\n",
    "\n",
    "print(f\"Min work time: {min_work_hours} hours/week\")"
   ]
  },
  {
   "cell_type": "markdown",
   "id": "be69370e",
   "metadata": {},
   "source": [
    "# What percentage of the people who work the minimum number of hours per week have a salary of >50K?"
   ]
  },
  {
   "cell_type": "code",
   "execution_count": 19,
   "id": "2330060c",
   "metadata": {},
   "outputs": [
    {
     "name": "stdout",
     "output_type": "stream",
     "text": [
      "Percentage of rich among those who work fewest hours: 10.0%\n"
     ]
    }
   ],
   "source": [
    "num_min_workers = df[(df[\"hours-per-week\"] == min_work_hours) & (df[\"salary\"] == \">50K\")].shape[0]\n",
    "rich_percentage = round((num_min_workers / df[df[\"hours-per-week\"] == min_work_hours].shape[0]) * 100,1)\n",
    "\n",
    "print(f\"Percentage of rich among those who work fewest hours: {rich_percentage}%\")"
   ]
  },
  {
   "cell_type": "markdown",
   "id": "eb9141e0",
   "metadata": {},
   "source": [
    "# What country has the highest percentage of people that earn >50K?"
   ]
  },
  {
   "cell_type": "code",
   "execution_count": 20,
   "id": "919a62ba",
   "metadata": {},
   "outputs": [
    {
     "name": "stdout",
     "output_type": "stream",
     "text": [
      "Country with highest percentage of rich: Iran\n",
      "Highest percentage of rich people in country: 41.9%\n"
     ]
    }
   ],
   "source": [
    "highest_earning_country = (df[df[\"salary\"] == \">50K\"][\"native-country\"].value_counts() / \n",
    "                             df[\"native-country\"].value_counts()).idxmax()\n",
    "\n",
    "highest_earning_country_percentage = round(((df[df[\"salary\"] == \">50K\"][\"native-country\"].value_counts() /\n",
    "                                        df[\"native-country\"].value_counts()) * 100).max(),1)\n",
    "\n",
    "print(\"Country with highest percentage of rich:\", highest_earning_country)\n",
    "print(f\"Highest percentage of rich people in country: {highest_earning_country_percentage}%\")"
   ]
  },
  {
   "cell_type": "markdown",
   "id": "e329f4f8",
   "metadata": {},
   "source": [
    "# Identify the most popular occupation for those who earn >50K in India."
   ]
  },
  {
   "cell_type": "code",
   "execution_count": 21,
   "id": "2b09f82a",
   "metadata": {},
   "outputs": [
    {
     "name": "stdout",
     "output_type": "stream",
     "text": [
      "Top occupations in India: Prof-specialty\n"
     ]
    }
   ],
   "source": [
    "top_IN_occupation = (df[(df[\"native-country\"] == \"India\") & (df[\"salary\"] == \">50K\")][\"occupation\"].value_counts()).idxmax()\n",
    "\n",
    "print(\"Top occupations in India:\", top_IN_occupation)"
   ]
  }
 ],
 "metadata": {
  "kernelspec": {
   "display_name": "Python 3 (ipykernel)",
   "language": "python",
   "name": "python3"
  },
  "language_info": {
   "codemirror_mode": {
    "name": "ipython",
    "version": 3
   },
   "file_extension": ".py",
   "mimetype": "text/x-python",
   "name": "python",
   "nbconvert_exporter": "python",
   "pygments_lexer": "ipython3",
   "version": "3.9.12"
  }
 },
 "nbformat": 4,
 "nbformat_minor": 5
}
